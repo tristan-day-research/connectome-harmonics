{
 "cells": [
  {
   "cell_type": "code",
   "execution_count": null,
   "id": "f4de71b6",
   "metadata": {},
   "outputs": [],
   "source": [
    "%load_ext autoreload\n",
    "%autoreload 2\n",
    "\n",
    "import sys\n",
    "import os\n",
    "from pathlib import Path\n",
    "\n",
    "# Dynamically set the working directory to the project root\n",
    "project_root = Path.cwd().parent.parent\n",
    "os.chdir(project_root)\n",
    "sys.path.append(os.path.join(os.getcwd(), 'src'))\n",
    "\n",
    "import ch\n",
    "from ch.settings import load_settings\n",
    "from ch.data_handling.io import load_matlab_file, get_nets_and_ages, backup_dataframe\n",
    "from ch.data_handling.metadata import load_metadata\n",
    "\n",
    "# Load settings\n",
    "settings = load_settings()\n",
    "\n",
    "# Load raw data\n",
    "camcan_raw = settings.camcan_raw  \n",
    "\n",
    "# Load metadata - pass settings object\n",
    "metadata = load_metadata(settings)\n"
   ]
  }
 ],
 "metadata": {
  "kernelspec": {
   "display_name": ".venv",
   "language": "python",
   "name": "python3"
  },
  "language_info": {
   "codemirror_mode": {
    "name": "ipython",
    "version": 3
   },
   "file_extension": ".py",
   "mimetype": "text/x-python",
   "name": "python",
   "nbconvert_exporter": "python",
   "pygments_lexer": "ipython3",
   "version": "3.11.13"
  }
 },
 "nbformat": 4,
 "nbformat_minor": 5
}
